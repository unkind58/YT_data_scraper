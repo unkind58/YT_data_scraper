{
 "cells": [
  {
   "cell_type": "code",
   "execution_count": 1,
   "metadata": {},
   "outputs": [],
   "source": [
    "import time\n",
    "import pathlib\n",
    "import pandas as pd \n",
    "from selenium import webdriver"
   ]
  },
  {
   "cell_type": "markdown",
   "metadata": {},
   "source": [
    "Make DataFrame"
   ]
  },
  {
   "cell_type": "code",
   "execution_count": 2,
   "metadata": {},
   "outputs": [],
   "source": [
    "df_youtube = pd.DataFrame(columns = ['date_published', 'title', 'views', 'keywords', 'video_id'])"
   ]
  },
  {
   "cell_type": "markdown",
   "metadata": {},
   "source": [
    "Define function for scraping the following data from Youtube: date, title, views and ID"
   ]
  },
  {
   "cell_type": "code",
   "execution_count": 12,
   "metadata": {},
   "outputs": [],
   "source": [
    "def youtube_channel(extension, count, df=df_youtube): \n",
    "    '''\n",
    "    Transforming df_youtube DataFrame:\n",
    "    1) Initialize and run chromedriver;\n",
    "    2) Find the chanel, open videos tab and scrape date, title, views and ID of \"count\"-number latest videos;\n",
    "    3) Assign each data category to each column in DataFrame.\n",
    "    '''\n",
    "    \n",
    "    driver = webdriver.Chrome('chromedriver\\\\chromedriver.exe')\n",
    "    youtube = 'https://www.youtube.com/'\n",
    "    driver.get(f'{youtube}results?search_query={extension}')\n",
    "    time.sleep(1.5)\n",
    "    channel_entrance = driver.find_element_by_css_selector('#main-link')\n",
    "    channel_entrance.click()\n",
    "    time.sleep(1.5)\n",
    "    channel_videos_entrance = driver.find_element_by_css_selector('#tabsContent > tp-yt-paper-tab:nth-child(4) > div')\n",
    "    channel_videos_entrance.click()\n",
    "    time.sleep(2.5)\n",
    "    part_one = '/html/body/ytd-app/div/ytd-page-manager/ytd-browse[1]/ytd-two-column-browse-results-renderer/div[1]/ytd-section-list-renderer/div[2]/ytd-item-section-renderer/div[3]/ytd-grid-renderer/div[1]/ytd-grid-video-renderer['\n",
    "    part_two = ']/div[1]/div[1]/div[1]/h3/a'\n",
    "    date_list, title_list, views_list, id_list  = [], [] , [] ,[]\n",
    "    \n",
    "    for r in range(1, count + 1):\n",
    "        url = part_one + str(r) + part_two\n",
    "        videos_entrance = driver.find_element_by_xpath(url)\n",
    "        driver.execute_script(\"arguments[0].click();\", videos_entrance)\n",
    "        time.sleep(1.5)\n",
    "        date_list.append(driver.find_element_by_css_selector('#date > yt-formatted-string').text)\n",
    "        title_list.append(driver.find_element_by_css_selector('#container > h1 > yt-formatted-string').text)\n",
    "        views_list.append(driver.find_element_by_css_selector('#count > ytd-video-view-count-renderer > span.view-count.style-scope.ytd-video-view-count-renderer').text)\n",
    "        time.sleep(2.5)\n",
    "        video_ids = driver.find_elements_by_xpath('//*[@id=\"page-manager\"]/ytd-watch-flexy')\n",
    "        \n",
    "        for video in video_ids:\n",
    "            video_id = str(video.get_attribute('video-id'))\n",
    "            id_list.append(video_id)\n",
    "        driver.back()\n",
    "        \n",
    "    df['date_published'] = date_list\n",
    "    df['title'] = title_list\n",
    "    df['views'] = views_list\n",
    "    df['video_id'] = id_list\n",
    "    driver.quit()"
   ]
  },
  {
   "cell_type": "markdown",
   "metadata": {},
   "source": [
    "Define function to scrape keywords"
   ]
  },
  {
   "cell_type": "code",
   "execution_count": 14,
   "metadata": {},
   "outputs": [],
   "source": [
    "def youtube_keywords(df=df_youtube, overall_list = [] ):\n",
    "    '''\n",
    "    Transforming df_youtube DataFrame:\n",
    "    1) Initialize and run chromedriver;\n",
    "    2) Scrape tags through each video from DataFrame's video_id column;\n",
    "    3) Assign each list of tags to coresponding column in DataFrame.\n",
    "    '''\n",
    "    \n",
    "    for video_id in list(df['video_id']):\n",
    "        tag_list = [] \n",
    "        driver = webdriver.Chrome('chromedriver\\\\chromedriver.exe')\n",
    "        youtube = 'https://www.youtube.com/'\n",
    "        driver.get(f'{youtube}watch?v={video_id}')\n",
    "        time.sleep(2)\n",
    "        tags = driver.find_elements_by_xpath(\"//meta[@property='og:video:tag']\") \n",
    "        \n",
    "        for tag in tags:\n",
    "            video_tag = str(tag.get_attribute('content'))     \n",
    "            tag_list.append(video_tag)  \n",
    "        overall_list.append(tag_list)   \n",
    "        driver.quit() \n",
    "    \n",
    "    for i in range(len(df['keywords'])):\n",
    "        df['keywords'][i] = overall_list[i]"
   ]
  },
  {
   "cell_type": "markdown",
   "metadata": {},
   "source": [
    "Run **youtube_channel()** function to extract date, title, views and ID"
   ]
  },
  {
   "cell_type": "code",
   "execution_count": 13,
   "metadata": {},
   "outputs": [
    {
     "name": "stdout",
     "output_type": "stream",
     "text": [
      "Enter your channel: skirmantas malinauskas\n",
      "Enter amount of latest videos: 5\n"
     ]
    },
    {
     "data": {
      "text/html": [
       "<div>\n",
       "<style scoped>\n",
       "    .dataframe tbody tr th:only-of-type {\n",
       "        vertical-align: middle;\n",
       "    }\n",
       "\n",
       "    .dataframe tbody tr th {\n",
       "        vertical-align: top;\n",
       "    }\n",
       "\n",
       "    .dataframe thead th {\n",
       "        text-align: right;\n",
       "    }\n",
       "</style>\n",
       "<table border=\"1\" class=\"dataframe\">\n",
       "  <thead>\n",
       "    <tr style=\"text-align: right;\">\n",
       "      <th></th>\n",
       "      <th>date_published</th>\n",
       "      <th>title</th>\n",
       "      <th>views</th>\n",
       "      <th>keywords</th>\n",
       "      <th>video_id</th>\n",
       "    </tr>\n",
       "  </thead>\n",
       "  <tbody>\n",
       "    <tr>\n",
       "      <th>0</th>\n",
       "      <td>14 Mar 2021</td>\n",
       "      <td>Henrikas Daktaras: Mes su Šviniumi buvome vers...</td>\n",
       "      <td>85,208 views</td>\n",
       "      <td>NaN</td>\n",
       "      <td>gQayDUCH05Q</td>\n",
       "    </tr>\n",
       "    <tr>\n",
       "      <th>1</th>\n",
       "      <td>7 Mar 2021</td>\n",
       "      <td>Kaip pavogti milijoną?</td>\n",
       "      <td>76,196 views</td>\n",
       "      <td>NaN</td>\n",
       "      <td>AdUiTzUNrd8</td>\n",
       "    </tr>\n",
       "    <tr>\n",
       "      <th>2</th>\n",
       "      <td>28 Feb 2021</td>\n",
       "      <td>Apie tai kalbėti draudžiama</td>\n",
       "      <td>85,305 views</td>\n",
       "      <td>NaN</td>\n",
       "      <td>Aq-bpR6vFig</td>\n",
       "    </tr>\n",
       "    <tr>\n",
       "      <th>3</th>\n",
       "      <td>21 Feb 2021</td>\n",
       "      <td>Safari Kaune ir antstoliai prie Šviniaus durų</td>\n",
       "      <td>128,298 views</td>\n",
       "      <td>NaN</td>\n",
       "      <td>2l6-mS6pt0c</td>\n",
       "    </tr>\n",
       "    <tr>\n",
       "      <th>4</th>\n",
       "      <td>16 Feb 2021</td>\n",
       "      <td>\"CityBee\" mums pamelavo - 110 tūkstančių žmoni...</td>\n",
       "      <td>147,787 views</td>\n",
       "      <td>NaN</td>\n",
       "      <td>wbKznbxe5r4</td>\n",
       "    </tr>\n",
       "  </tbody>\n",
       "</table>\n",
       "</div>"
      ],
      "text/plain": [
       "  date_published                                              title  \\\n",
       "0    14 Mar 2021  Henrikas Daktaras: Mes su Šviniumi buvome vers...   \n",
       "1     7 Mar 2021                             Kaip pavogti milijoną?   \n",
       "2    28 Feb 2021                        Apie tai kalbėti draudžiama   \n",
       "3    21 Feb 2021      Safari Kaune ir antstoliai prie Šviniaus durų   \n",
       "4    16 Feb 2021  \"CityBee\" mums pamelavo - 110 tūkstančių žmoni...   \n",
       "\n",
       "           views keywords     video_id  \n",
       "0   85,208 views      NaN  gQayDUCH05Q  \n",
       "1   76,196 views      NaN  AdUiTzUNrd8  \n",
       "2   85,305 views      NaN  Aq-bpR6vFig  \n",
       "3  128,298 views      NaN  2l6-mS6pt0c  \n",
       "4  147,787 views      NaN  wbKznbxe5r4  "
      ]
     },
     "execution_count": 13,
     "metadata": {},
     "output_type": "execute_result"
    }
   ],
   "source": [
    "youtube_channel(input('Enter your channel: ').replace(' ','+'), int(input('Enter amount of latest videos: ')))\n",
    "df_youtube"
   ]
  },
  {
   "cell_type": "markdown",
   "metadata": {},
   "source": [
    "Run **youtube_keywords()** function to extract tags directly to *df_youtube* DataFrame"
   ]
  },
  {
   "cell_type": "code",
   "execution_count": 15,
   "metadata": {},
   "outputs": [
    {
     "data": {
      "text/html": [
       "<div>\n",
       "<style scoped>\n",
       "    .dataframe tbody tr th:only-of-type {\n",
       "        vertical-align: middle;\n",
       "    }\n",
       "\n",
       "    .dataframe tbody tr th {\n",
       "        vertical-align: top;\n",
       "    }\n",
       "\n",
       "    .dataframe thead th {\n",
       "        text-align: right;\n",
       "    }\n",
       "</style>\n",
       "<table border=\"1\" class=\"dataframe\">\n",
       "  <thead>\n",
       "    <tr style=\"text-align: right;\">\n",
       "      <th></th>\n",
       "      <th>date_published</th>\n",
       "      <th>title</th>\n",
       "      <th>views</th>\n",
       "      <th>keywords</th>\n",
       "      <th>video_id</th>\n",
       "    </tr>\n",
       "  </thead>\n",
       "  <tbody>\n",
       "    <tr>\n",
       "      <th>0</th>\n",
       "      <td>14 Mar 2021</td>\n",
       "      <td>Henrikas Daktaras: Mes su Šviniumi buvome vers...</td>\n",
       "      <td>85,208 views</td>\n",
       "      <td>[henrikas daktaras, henrikas, pukelis, arūnas ...</td>\n",
       "      <td>gQayDUCH05Q</td>\n",
       "    </tr>\n",
       "    <tr>\n",
       "      <th>1</th>\n",
       "      <td>7 Mar 2021</td>\n",
       "      <td>Kaip pavogti milijoną?</td>\n",
       "      <td>76,196 views</td>\n",
       "      <td>[Geostatyba, Nerijus Vaitonis, Sigita Astrauki...</td>\n",
       "      <td>AdUiTzUNrd8</td>\n",
       "    </tr>\n",
       "    <tr>\n",
       "      <th>2</th>\n",
       "      <td>28 Feb 2021</td>\n",
       "      <td>Apie tai kalbėti draudžiama</td>\n",
       "      <td>85,305 views</td>\n",
       "      <td>[Algirdas Toliatas, Paulius Vaineikis, Valdas ...</td>\n",
       "      <td>Aq-bpR6vFig</td>\n",
       "    </tr>\n",
       "    <tr>\n",
       "      <th>3</th>\n",
       "      <td>21 Feb 2021</td>\n",
       "      <td>Safari Kaune ir antstoliai prie Šviniaus durų</td>\n",
       "      <td>128,298 views</td>\n",
       "      <td>[arūnas pukelis, arunas pukelis, lff, švinius,...</td>\n",
       "      <td>2l6-mS6pt0c</td>\n",
       "    </tr>\n",
       "    <tr>\n",
       "      <th>4</th>\n",
       "      <td>16 Feb 2021</td>\n",
       "      <td>\"CityBee\" mums pamelavo - 110 tūkstančių žmoni...</td>\n",
       "      <td>147,787 views</td>\n",
       "      <td>[CityBee, asmens duomenys, vagystė, automobili...</td>\n",
       "      <td>wbKznbxe5r4</td>\n",
       "    </tr>\n",
       "  </tbody>\n",
       "</table>\n",
       "</div>"
      ],
      "text/plain": [
       "  date_published                                              title  \\\n",
       "0    14 Mar 2021  Henrikas Daktaras: Mes su Šviniumi buvome vers...   \n",
       "1     7 Mar 2021                             Kaip pavogti milijoną?   \n",
       "2    28 Feb 2021                        Apie tai kalbėti draudžiama   \n",
       "3    21 Feb 2021      Safari Kaune ir antstoliai prie Šviniaus durų   \n",
       "4    16 Feb 2021  \"CityBee\" mums pamelavo - 110 tūkstančių žmoni...   \n",
       "\n",
       "           views                                           keywords  \\\n",
       "0   85,208 views  [henrikas daktaras, henrikas, pukelis, arūnas ...   \n",
       "1   76,196 views  [Geostatyba, Nerijus Vaitonis, Sigita Astrauki...   \n",
       "2   85,305 views  [Algirdas Toliatas, Paulius Vaineikis, Valdas ...   \n",
       "3  128,298 views  [arūnas pukelis, arunas pukelis, lff, švinius,...   \n",
       "4  147,787 views  [CityBee, asmens duomenys, vagystė, automobili...   \n",
       "\n",
       "      video_id  \n",
       "0  gQayDUCH05Q  \n",
       "1  AdUiTzUNrd8  \n",
       "2  Aq-bpR6vFig  \n",
       "3  2l6-mS6pt0c  \n",
       "4  wbKznbxe5r4  "
      ]
     },
     "execution_count": 15,
     "metadata": {},
     "output_type": "execute_result"
    }
   ],
   "source": [
    "youtube_keywords()\n",
    "df_youtube"
   ]
  },
  {
   "cell_type": "code",
   "execution_count": null,
   "metadata": {},
   "outputs": [],
   "source": []
  }
 ],
 "metadata": {
  "kernelspec": {
   "display_name": "Python 3",
   "language": "python",
   "name": "python3"
  },
  "language_info": {
   "codemirror_mode": {
    "name": "ipython",
    "version": 3
   },
   "file_extension": ".py",
   "mimetype": "text/x-python",
   "name": "python",
   "nbconvert_exporter": "python",
   "pygments_lexer": "ipython3",
   "version": "3.7.6"
  }
 },
 "nbformat": 4,
 "nbformat_minor": 4
}
